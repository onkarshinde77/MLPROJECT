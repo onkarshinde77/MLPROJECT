{
 "cells": [
  {
   "cell_type": "code",
   "execution_count": 25,
   "id": "91cd68bb",
   "metadata": {},
   "outputs": [],
   "source": [
    "import numpy as np\n",
    "import pandas as pd\n",
    "import matplotlib.pyplot as plt \n",
    "import seaborn as sns"
   ]
  },
  {
   "cell_type": "code",
   "execution_count": 26,
   "id": "13778bc7",
   "metadata": {},
   "outputs": [],
   "source": [
    "from sklearn.metrics import mean_absolute_error,mean_squared_error,r2_score,root_mean_squared_error , f1_score\n",
    "from sklearn.linear_model import LinearRegression,Ridge,Lasso\n",
    "from sklearn.neighbors import KNeighborsRegressor\n",
    "from sklearn.tree import DecisionTreeRegressor\n",
    "from sklearn.ensemble import RandomForestRegressor,AdaBoostRegressor\n",
    "from sklearn.svm import SVR\n",
    "from xgboost import XGBRegressor\n",
    "from catboost import CatBoostRegressor"
   ]
  },
  {
   "cell_type": "code",
   "execution_count": 27,
   "id": "dec4c9ce",
   "metadata": {},
   "outputs": [
    {
     "data": {
      "text/html": [
       "<div>\n",
       "<style scoped>\n",
       "    .dataframe tbody tr th:only-of-type {\n",
       "        vertical-align: middle;\n",
       "    }\n",
       "\n",
       "    .dataframe tbody tr th {\n",
       "        vertical-align: top;\n",
       "    }\n",
       "\n",
       "    .dataframe thead th {\n",
       "        text-align: right;\n",
       "    }\n",
       "</style>\n",
       "<table border=\"1\" class=\"dataframe\">\n",
       "  <thead>\n",
       "    <tr style=\"text-align: right;\">\n",
       "      <th></th>\n",
       "      <th>gender</th>\n",
       "      <th>race_ethnicity</th>\n",
       "      <th>parental_level_of_education</th>\n",
       "      <th>lunch</th>\n",
       "      <th>test_preparation_course</th>\n",
       "      <th>math_score</th>\n",
       "      <th>reading_score</th>\n",
       "      <th>writing_score</th>\n",
       "    </tr>\n",
       "  </thead>\n",
       "  <tbody>\n",
       "    <tr>\n",
       "      <th>0</th>\n",
       "      <td>female</td>\n",
       "      <td>group B</td>\n",
       "      <td>bachelor's degree</td>\n",
       "      <td>standard</td>\n",
       "      <td>none</td>\n",
       "      <td>72</td>\n",
       "      <td>72</td>\n",
       "      <td>74</td>\n",
       "    </tr>\n",
       "    <tr>\n",
       "      <th>1</th>\n",
       "      <td>female</td>\n",
       "      <td>group C</td>\n",
       "      <td>some college</td>\n",
       "      <td>standard</td>\n",
       "      <td>completed</td>\n",
       "      <td>69</td>\n",
       "      <td>90</td>\n",
       "      <td>88</td>\n",
       "    </tr>\n",
       "    <tr>\n",
       "      <th>2</th>\n",
       "      <td>female</td>\n",
       "      <td>group B</td>\n",
       "      <td>master's degree</td>\n",
       "      <td>standard</td>\n",
       "      <td>none</td>\n",
       "      <td>90</td>\n",
       "      <td>95</td>\n",
       "      <td>93</td>\n",
       "    </tr>\n",
       "    <tr>\n",
       "      <th>3</th>\n",
       "      <td>male</td>\n",
       "      <td>group A</td>\n",
       "      <td>associate's degree</td>\n",
       "      <td>standard</td>\n",
       "      <td>none</td>\n",
       "      <td>47</td>\n",
       "      <td>57</td>\n",
       "      <td>44</td>\n",
       "    </tr>\n",
       "    <tr>\n",
       "      <th>4</th>\n",
       "      <td>male</td>\n",
       "      <td>group C</td>\n",
       "      <td>some college</td>\n",
       "      <td>standard</td>\n",
       "      <td>none</td>\n",
       "      <td>76</td>\n",
       "      <td>78</td>\n",
       "      <td>75</td>\n",
       "    </tr>\n",
       "  </tbody>\n",
       "</table>\n",
       "</div>"
      ],
      "text/plain": [
       "   gender race_ethnicity parental_level_of_education     lunch  \\\n",
       "0  female        group B           bachelor's degree  standard   \n",
       "1  female        group C                some college  standard   \n",
       "2  female        group B             master's degree  standard   \n",
       "3    male        group A          associate's degree  standard   \n",
       "4    male        group C                some college  standard   \n",
       "\n",
       "  test_preparation_course  math_score  reading_score  writing_score  \n",
       "0                    none          72             72             74  \n",
       "1               completed          69             90             88  \n",
       "2                    none          90             95             93  \n",
       "3                    none          47             57             44  \n",
       "4                    none          76             78             75  "
      ]
     },
     "execution_count": 27,
     "metadata": {},
     "output_type": "execute_result"
    }
   ],
   "source": [
    "data = pd.read_csv('data/stud.csv')\n",
    "data.head()"
   ]
  },
  {
   "cell_type": "code",
   "execution_count": 28,
   "id": "66067210",
   "metadata": {},
   "outputs": [],
   "source": [
    "X = data.drop(columns=['math_score'],axis=1)\n",
    "y = data['math_score']"
   ]
  },
  {
   "cell_type": "code",
   "execution_count": 29,
   "id": "91728231",
   "metadata": {},
   "outputs": [],
   "source": [
    "num_data = X.select_dtypes(exclude='object').columns\n",
    "cat_data = X.select_dtypes(include='object').columns"
   ]
  },
  {
   "cell_type": "code",
   "execution_count": 30,
   "id": "f4f39a70",
   "metadata": {},
   "outputs": [],
   "source": [
    "from sklearn.preprocessing import OneHotEncoder,StandardScaler\n",
    "from sklearn.compose import ColumnTransformer\n",
    "from sklearn.model_selection import train_test_split"
   ]
  },
  {
   "cell_type": "code",
   "execution_count": 31,
   "id": "1485c8e8",
   "metadata": {},
   "outputs": [],
   "source": [
    "num_transform = StandardScaler()\n",
    "cat_transform = OneHotEncoder()\n",
    "\n",
    "preproccess = ColumnTransformer([\n",
    "    ('OneHotEncoder',cat_transform,cat_data),\n",
    "    ('StandardScaler',num_transform,num_data)\n",
    "])"
   ]
  },
  {
   "cell_type": "code",
   "execution_count": 32,
   "id": "057bd2ae",
   "metadata": {},
   "outputs": [],
   "source": [
    "X = preproccess.fit_transform(X)"
   ]
  },
  {
   "cell_type": "code",
   "execution_count": 33,
   "id": "67f04bdb",
   "metadata": {},
   "outputs": [],
   "source": [
    "X_train,X_test,y_train,y_test = train_test_split(X,y,test_size=0.2,random_state=42)"
   ]
  },
  {
   "cell_type": "code",
   "execution_count": 34,
   "id": "b9a8de83",
   "metadata": {},
   "outputs": [],
   "source": [
    "def evaluat_model(a,b):\n",
    "    mae = mean_absolute_error(a,b)\n",
    "    mse = mean_squared_error(a,b)\n",
    "    rmse = root_mean_squared_error(a,b)\n",
    "    r2 = r2_score(a,b)\n",
    "    return mae,mse,rmse,r2"
   ]
  },
  {
   "cell_type": "code",
   "execution_count": 35,
   "id": "d0f1a039",
   "metadata": {},
   "outputs": [
    {
     "name": "stdout",
     "output_type": "stream",
     "text": [
      "Linear Regression Accuracy : \n",
      "MSE :  29.081572227186207\n",
      "r2_score :  0.8804891779218315\n",
      "\n",
      "Lasso Accuracy : \n",
      "MSE :  42.558198094074925\n",
      "r2_score :  0.8251069371127824\n",
      "\n",
      "Ridge Accuracy : \n",
      "MSE :  29.040203575167975\n",
      "r2_score :  0.8806591825409883\n",
      "\n",
      "K-Neighbors Regressor Accuracy : \n",
      "MSE :  52.90259999999999\n",
      "r2_score :  0.7825965815506307\n",
      "\n",
      "Decision Tree Accuracy : \n",
      "MSE :  60.075\n",
      "r2_score :  0.7531215788383584\n",
      "\n",
      "Random Forest Regressor Accuracy : \n",
      "MSE :  35.327080041666676\n",
      "r2_score :  0.8548232418653748\n",
      "\n",
      "XGBRegressor Accuracy : \n",
      "MSE :  40.93837356567383\n",
      "r2_score :  0.8317636251449585\n",
      "\n",
      "CatBoosting Regressor Accuracy : \n",
      "MSE :  36.25545230655922\n",
      "r2_score :  0.851008092818235\n",
      "\n",
      "AdaBoost Regressor Accuracy : \n",
      "MSE :  35.70595739816857\n",
      "r2_score :  0.8532662440528558\n",
      "\n"
     ]
    }
   ],
   "source": [
    "models = {\n",
    "    \"Linear Regression\": LinearRegression(),\n",
    "    \"Lasso\": Lasso(),\n",
    "    \"Ridge\": Ridge(),\n",
    "    \"K-Neighbors Regressor\": KNeighborsRegressor(),\n",
    "    \"Decision Tree\": DecisionTreeRegressor(),\n",
    "    \"Random Forest Regressor\": RandomForestRegressor(),\n",
    "    \"XGBRegressor\": XGBRegressor(n_estimators=100, max_depth=5), \n",
    "    \"CatBoosting Regressor\": CatBoostRegressor(verbose=False),\n",
    "    \"AdaBoost Regressor\": AdaBoostRegressor()\n",
    "}\n",
    "models_list=[]\n",
    "r2_list=[]\n",
    "\n",
    "for name,model in models.items():\n",
    "    train_model = model.fit(X_train,y_train)    \n",
    "    y_pred = train_model.predict(X_test)\n",
    "    \n",
    "    print(f\"{name} Accuracy : \")\n",
    "    mae , mse ,rmse ,r2 = evaluat_model(y_test,y_pred)\n",
    "    print(\"MSE : \",mse)\n",
    "    print(\"r2_score : \",r2)\n",
    "    # print(f1_score(y_test,y_train))\n",
    "    print()"
   ]
  },
  {
   "cell_type": "code",
   "execution_count": null,
   "id": "e10f9535",
   "metadata": {},
   "outputs": [],
   "source": []
  },
  {
   "cell_type": "code",
   "execution_count": null,
   "id": "b38d7766",
   "metadata": {},
   "outputs": [],
   "source": []
  },
  {
   "cell_type": "code",
   "execution_count": null,
   "id": "24954184",
   "metadata": {},
   "outputs": [],
   "source": []
  }
 ],
 "metadata": {
  "kernelspec": {
   "display_name": "venv",
   "language": "python",
   "name": "python3"
  },
  "language_info": {
   "codemirror_mode": {
    "name": "ipython",
    "version": 3
   },
   "file_extension": ".py",
   "mimetype": "text/x-python",
   "name": "python",
   "nbconvert_exporter": "python",
   "pygments_lexer": "ipython3",
   "version": "3.12.7"
  }
 },
 "nbformat": 4,
 "nbformat_minor": 5
}
